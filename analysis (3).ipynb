{
 "cells": [
  {
   "cell_type": "code",
   "execution_count": 32,
   "metadata": {},
   "outputs": [],
   "source": [
    "from textblob import TextBlob\n",
    "from pyspark import SparkConf, SparkContext\n",
    "from pyspark.sql import SQLContext\n",
    "from pyspark.sql import SparkSession\n",
    "from pyspark.sql.functions import col, udf"
   ]
  },
  {
   "cell_type": "code",
   "execution_count": 33,
   "metadata": {},
   "outputs": [],
   "source": [
    "conf = SparkConf().setAppName(\"Sent Analysis Textblob\")"
   ]
  },
  {
   "cell_type": "code",
   "execution_count": 34,
   "metadata": {},
   "outputs": [
    {
     "ename": "ValueError",
     "evalue": "Cannot run multiple SparkContexts at once; existing SparkContext(app=Sent Analysis Textblob, master=local[*]) created by __init__ at <ipython-input-3-66f9c693822e>:1 ",
     "output_type": "error",
     "traceback": [
      "\u001b[1;31m---------------------------------------------------------------------------\u001b[0m",
      "\u001b[1;31mValueError\u001b[0m                                Traceback (most recent call last)",
      "\u001b[1;32m<ipython-input-34-66f9c693822e>\u001b[0m in \u001b[0;36m<module>\u001b[1;34m\u001b[0m\n\u001b[1;32m----> 1\u001b[1;33m \u001b[0msc\u001b[0m \u001b[1;33m=\u001b[0m \u001b[0mSparkContext\u001b[0m\u001b[1;33m(\u001b[0m\u001b[0mconf\u001b[0m\u001b[1;33m=\u001b[0m\u001b[0mconf\u001b[0m\u001b[1;33m)\u001b[0m\u001b[1;33m\u001b[0m\u001b[1;33m\u001b[0m\u001b[0m\n\u001b[0m",
      "\u001b[1;32m~\\anaconda3\\lib\\site-packages\\pyspark\\context.py\u001b[0m in \u001b[0;36m__init__\u001b[1;34m(self, master, appName, sparkHome, pyFiles, environment, batchSize, serializer, conf, gateway, jsc, profiler_cls)\u001b[0m\n\u001b[0;32m    131\u001b[0m                     \" note this option will be removed in Spark 3.0\")\n\u001b[0;32m    132\u001b[0m \u001b[1;33m\u001b[0m\u001b[0m\n\u001b[1;32m--> 133\u001b[1;33m         \u001b[0mSparkContext\u001b[0m\u001b[1;33m.\u001b[0m\u001b[0m_ensure_initialized\u001b[0m\u001b[1;33m(\u001b[0m\u001b[0mself\u001b[0m\u001b[1;33m,\u001b[0m \u001b[0mgateway\u001b[0m\u001b[1;33m=\u001b[0m\u001b[0mgateway\u001b[0m\u001b[1;33m,\u001b[0m \u001b[0mconf\u001b[0m\u001b[1;33m=\u001b[0m\u001b[0mconf\u001b[0m\u001b[1;33m)\u001b[0m\u001b[1;33m\u001b[0m\u001b[1;33m\u001b[0m\u001b[0m\n\u001b[0m\u001b[0;32m    134\u001b[0m         \u001b[1;32mtry\u001b[0m\u001b[1;33m:\u001b[0m\u001b[1;33m\u001b[0m\u001b[1;33m\u001b[0m\u001b[0m\n\u001b[0;32m    135\u001b[0m             self._do_init(master, appName, sparkHome, pyFiles, environment, batchSize, serializer,\n",
      "\u001b[1;32m~\\anaconda3\\lib\\site-packages\\pyspark\\context.py\u001b[0m in \u001b[0;36m_ensure_initialized\u001b[1;34m(cls, instance, gateway, conf)\u001b[0m\n\u001b[0;32m    330\u001b[0m                         \u001b[1;34m\" created by %s at %s:%s \"\u001b[0m\u001b[1;33m\u001b[0m\u001b[1;33m\u001b[0m\u001b[0m\n\u001b[0;32m    331\u001b[0m                         % (currentAppName, currentMaster,\n\u001b[1;32m--> 332\u001b[1;33m                             callsite.function, callsite.file, callsite.linenum))\n\u001b[0m\u001b[0;32m    333\u001b[0m                 \u001b[1;32melse\u001b[0m\u001b[1;33m:\u001b[0m\u001b[1;33m\u001b[0m\u001b[1;33m\u001b[0m\u001b[0m\n\u001b[0;32m    334\u001b[0m                     \u001b[0mSparkContext\u001b[0m\u001b[1;33m.\u001b[0m\u001b[0m_active_spark_context\u001b[0m \u001b[1;33m=\u001b[0m \u001b[0minstance\u001b[0m\u001b[1;33m\u001b[0m\u001b[1;33m\u001b[0m\u001b[0m\n",
      "\u001b[1;31mValueError\u001b[0m: Cannot run multiple SparkContexts at once; existing SparkContext(app=Sent Analysis Textblob, master=local[*]) created by __init__ at <ipython-input-3-66f9c693822e>:1 "
     ]
    }
   ],
   "source": [
    "sc = SparkContext(conf=conf)"
   ]
  },
  {
   "cell_type": "code",
   "execution_count": 35,
   "metadata": {},
   "outputs": [],
   "source": [
    "sqlCtx = SQLContext(sc)"
   ]
  },
  {
   "cell_type": "code",
   "execution_count": 36,
   "metadata": {},
   "outputs": [],
   "source": [
    "df = sqlCtx.read.json(\"kindle_store.json\")"
   ]
  },
  {
   "cell_type": "code",
   "execution_count": 37,
   "metadata": {},
   "outputs": [
    {
     "data": {
      "text/plain": [
       "DataFrame[asin: string, helpful: array<bigint>, overall: double, reviewText: string, reviewTime: string, reviewerID: string, reviewerName: string, summary: string, unixReviewTime: bigint]"
      ]
     },
     "execution_count": 37,
     "metadata": {},
     "output_type": "execute_result"
    }
   ],
   "source": [
    "df"
   ]
  },
  {
   "cell_type": "code",
   "execution_count": 38,
   "metadata": {},
   "outputs": [],
   "source": [
    "reviews = df[[\"reviewText\",\"overall\"]]"
   ]
  },
  {
   "cell_type": "code",
   "execution_count": 17,
   "metadata": {},
   "outputs": [
    {
     "name": "stdout",
     "output_type": "stream",
     "text": [
      "+--------------------+-------+\n",
      "|          reviewText|overall|\n",
      "+--------------------+-------+\n",
      "|I enjoy vintage b...|    5.0|\n",
      "|This book is a re...|    4.0|\n",
      "|This was a fairly...|    4.0|\n",
      "|I'd never read an...|    5.0|\n",
      "|If you like perio...|    4.0|\n",
      "|A beautiful in-de...|    4.0|\n",
      "|I enjoyed this on...|    4.0|\n",
      "|Never heard of Am...|    4.0|\n",
      "|Darth Maul workin...|    5.0|\n",
      "|This is a short s...|    4.0|\n",
      "|I think I have th...|    5.0|\n",
      "|Title has nothing...|    4.0|\n",
      "|Well written. Int...|    3.0|\n",
      "|Troy Denning's no...|    3.0|\n",
      "|I am not for sure...|    5.0|\n",
      "|I really enjoyed ...|    5.0|\n",
      "|Great read enjoye...|    5.0|\n",
      "|Another well writ...|    3.0|\n",
      "|This one promises...|    5.0|\n",
      "|I have a version ...|    4.0|\n",
      "+--------------------+-------+\n",
      "only showing top 20 rows\n",
      "\n"
     ]
    }
   ],
   "source": [
    "reviews.show(20)"
   ]
  },
  {
   "cell_type": "code",
   "execution_count": 39,
   "metadata": {},
   "outputs": [],
   "source": [
    "sqlCtx.registerDataFrameAsTable(reviews, \"table2\")"
   ]
  },
  {
   "cell_type": "code",
   "execution_count": 40,
   "metadata": {},
   "outputs": [],
   "source": [
    "reviews1 = sqlCtx.sql(\"SELECT reviewText, overall from table2\")"
   ]
  },
  {
   "cell_type": "code",
   "execution_count": 41,
   "metadata": {},
   "outputs": [],
   "source": [
    "#positive->1\n",
    "#neutral->0\n",
    "#negative->2\n",
    "def transform(star):\n",
    "        if star >=3.0:\n",
    "                return 1.0\n",
    "        elif star == 3.0:\n",
    "                return 0.0\n",
    "        else:\n",
    "                return 2.0"
   ]
  },
  {
   "cell_type": "code",
   "execution_count": 42,
   "metadata": {},
   "outputs": [],
   "source": [
    "transformer = udf(transform)"
   ]
  },
  {
   "cell_type": "code",
   "execution_count": 43,
   "metadata": {},
   "outputs": [],
   "source": [
    "df1 = reviews1.withColumn(\"label\", transformer(reviews['overall']))"
   ]
  },
  {
   "cell_type": "code",
   "execution_count": 44,
   "metadata": {},
   "outputs": [],
   "source": [
    "sqlCtx.registerDataFrameAsTable(df1, \"table1\")"
   ]
  },
  {
   "cell_type": "code",
   "execution_count": 45,
   "metadata": {},
   "outputs": [],
   "source": [
    "df2 = sqlCtx.sql(\"SELECT reviewText, label from table1 WHERE reviewText != ''\")"
   ]
  },
  {
   "cell_type": "code",
   "execution_count": 46,
   "metadata": {},
   "outputs": [
    {
     "name": "stdout",
     "output_type": "stream",
     "text": [
      "+--------------------+-----+\n",
      "|          reviewText|label|\n",
      "+--------------------+-----+\n",
      "|I enjoy vintage b...|  1.0|\n",
      "|This book is a re...|  1.0|\n",
      "|This was a fairly...|  1.0|\n",
      "|I'd never read an...|  1.0|\n",
      "|If you like perio...|  1.0|\n",
      "|A beautiful in-de...|  1.0|\n",
      "|I enjoyed this on...|  1.0|\n",
      "|Never heard of Am...|  1.0|\n",
      "|Darth Maul workin...|  1.0|\n",
      "|This is a short s...|  1.0|\n",
      "|I think I have th...|  1.0|\n",
      "|Title has nothing...|  1.0|\n",
      "|Well written. Int...|  1.0|\n",
      "|Troy Denning's no...|  1.0|\n",
      "|I am not for sure...|  1.0|\n",
      "|I really enjoyed ...|  1.0|\n",
      "|Great read enjoye...|  1.0|\n",
      "|Another well writ...|  1.0|\n",
      "|This one promises...|  1.0|\n",
      "|I have a version ...|  1.0|\n",
      "+--------------------+-----+\n",
      "only showing top 20 rows\n",
      "\n"
     ]
    }
   ],
   "source": [
    "df2.show()"
   ]
  },
  {
   "cell_type": "code",
   "execution_count": 47,
   "metadata": {},
   "outputs": [],
   "source": [
    "def apply_blob(sentence):\n",
    "    temp = TextBlob(sentence).sentiment[0]\n",
    "    if temp == 0.0:\n",
    "        return 0.0\n",
    "    elif temp >= 0.0:\n",
    "        return 1.0\n",
    "    else:\n",
    "        return 2.0"
   ]
  },
  {
   "cell_type": "code",
   "execution_count": 48,
   "metadata": {},
   "outputs": [],
   "source": [
    "predictions = udf(apply_blob)"
   ]
  },
  {
   "cell_type": "code",
   "execution_count": 49,
   "metadata": {},
   "outputs": [],
   "source": [
    "blob_df = df2.withColumn(\"predicted\", predictions(df2['reviewText']))"
   ]
  },
  {
   "cell_type": "code",
   "execution_count": 50,
   "metadata": {},
   "outputs": [
    {
     "name": "stdout",
     "output_type": "stream",
     "text": [
      "+--------------------+-----+---------+\n",
      "|          reviewText|label|predicted|\n",
      "+--------------------+-----+---------+\n",
      "|I enjoy vintage b...|  1.0|      1.0|\n",
      "|This book is a re...|  1.0|      1.0|\n",
      "|This was a fairly...|  1.0|      1.0|\n",
      "|I'd never read an...|  1.0|      1.0|\n",
      "|If you like perio...|  1.0|      1.0|\n",
      "|A beautiful in-de...|  1.0|      1.0|\n",
      "|I enjoyed this on...|  1.0|      1.0|\n",
      "|Never heard of Am...|  1.0|      1.0|\n",
      "|Darth Maul workin...|  1.0|      1.0|\n",
      "|This is a short s...|  1.0|      1.0|\n",
      "|I think I have th...|  1.0|      1.0|\n",
      "|Title has nothing...|  1.0|      1.0|\n",
      "|Well written. Int...|  1.0|      1.0|\n",
      "|Troy Denning's no...|  1.0|      1.0|\n",
      "|I am not for sure...|  1.0|      1.0|\n",
      "|I really enjoyed ...|  1.0|      1.0|\n",
      "|Great read enjoye...|  1.0|      1.0|\n",
      "|Another well writ...|  1.0|      1.0|\n",
      "|This one promises...|  1.0|      1.0|\n",
      "|I have a version ...|  1.0|      2.0|\n",
      "+--------------------+-----+---------+\n",
      "only showing top 20 rows\n",
      "\n"
     ]
    }
   ],
   "source": [
    "blob_df.show()"
   ]
  },
  {
   "cell_type": "code",
   "execution_count": 51,
   "metadata": {},
   "outputs": [],
   "source": [
    "true_labels = [i.label for i in blob_df.select(\"label\").collect()]"
   ]
  },
  {
   "cell_type": "code",
   "execution_count": 52,
   "metadata": {},
   "outputs": [],
   "source": [
    "predicted_labels = [i.predicted for i in blob_df.select(\"predicted\").collect()]"
   ]
  },
  {
   "cell_type": "code",
   "execution_count": 53,
   "metadata": {},
   "outputs": [],
   "source": [
    "correct = 0\n",
    "wrong = 0"
   ]
  },
  {
   "cell_type": "code",
   "execution_count": 54,
   "metadata": {},
   "outputs": [],
   "source": [
    "for i in range(len(true_labels)):\n",
    "        if true_labels[i] == predicted_labels[i]:\n",
    "                correct +=1\n",
    "        else:\n",
    "                wrong +=1"
   ]
  },
  {
   "cell_type": "code",
   "execution_count": 55,
   "metadata": {},
   "outputs": [
    {
     "name": "stdout",
     "output_type": "stream",
     "text": [
      "Correct predictions:  893520\n",
      "Wrong predictions:  89077\n",
      "Accuracy:  0.9093453368980365\n"
     ]
    }
   ],
   "source": [
    "print('Correct predictions: ', correct)\n",
    "print('Wrong predictions: ', wrong)\n",
    "print('Accuracy: ', correct/(correct+wrong))"
   ]
  },
  {
   "cell_type": "code",
   "execution_count": null,
   "metadata": {},
   "outputs": [],
   "source": []
  },
  {
   "cell_type": "code",
   "execution_count": null,
   "metadata": {},
   "outputs": [],
   "source": []
  },
  {
   "cell_type": "code",
   "execution_count": null,
   "metadata": {},
   "outputs": [],
   "source": []
  },
  {
   "cell_type": "code",
   "execution_count": null,
   "metadata": {},
   "outputs": [],
   "source": []
  },
  {
   "cell_type": "code",
   "execution_count": null,
   "metadata": {},
   "outputs": [],
   "source": []
  }
 ],
 "metadata": {
  "kernelspec": {
   "display_name": "Python 3",
   "language": "python",
   "name": "python3"
  },
  "language_info": {
   "codemirror_mode": {
    "name": "ipython",
    "version": 3
   },
   "file_extension": ".py",
   "mimetype": "text/x-python",
   "name": "python",
   "nbconvert_exporter": "python",
   "pygments_lexer": "ipython3",
   "version": "3.6.5"
  }
 },
 "nbformat": 4,
 "nbformat_minor": 2
}
